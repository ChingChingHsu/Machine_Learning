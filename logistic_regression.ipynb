{
  "cells": [
    {
      "cell_type": "code",
      "execution_count": 3,
      "metadata": {
        "id": "lwB0Ngn983Yc"
      },
      "outputs": [],
      "source": [
        "#  File: logistic_regression.ipynb\n",
        "#  ----------------------------\n",
        "#  This file shows the foundamental math equations\n",
        "#  in logistic regression, including:\n",
        "#      - sigmoid function\n",
        "#      - loss function\n",
        "#      - cost function"
      ]
    },
    {
      "cell_type": "code",
      "execution_count": 4,
      "metadata": {
        "id": "ofPFEo8983Yf"
      },
      "outputs": [],
      "source": [
        "import matplotlib.pyplot as plt\n",
        "import numpy as np\n",
        "import math\n",
        "import random"
      ]
    },
    {
      "cell_type": "code",
      "execution_count": 5,
      "metadata": {
        "id": "IH_HxB3H83Yh"
      },
      "outputs": [],
      "source": [
        "# sigmoid function which is\n",
        "# ----------------------------------------\n",
        "# [1 / (1+math.exp(-k))]\n",
        "# ----------------------------------------\n",
        "# :param k: float, usually obtained from theta*x_i\n",
        "# :return: float, the probability of k being 1\n",
        "# The outputs are bounded between 0-1\n",
        "\n",
        "def sigmoid(k):\n",
        "    return 1 / (1+math.exp(-k))\n",
        ""
      ]
    },
    {
      "cell_type": "code",
      "execution_count": 5,
      "metadata": {
        "id": "1LmU82Lb83Yi"
      },
      "outputs": [],
      "source": []
    },
    {
      "cell_type": "code",
      "execution_count": 6,
      "metadata": {
        "colab": {
          "base_uri": "https://localhost:8080/"
        },
        "id": "QtH1mGQp83Yi",
        "outputId": "f373c283-366e-4a54-a63d-63338fe54d8a"
      },
      "outputs": [
        {
          "output_type": "stream",
          "name": "stdout",
          "text": [
            "0.5\n"
          ]
        }
      ],
      "source": [
        "# You should see 0.5\n",
        "print(sigmoid(0))"
      ]
    },
    {
      "cell_type": "code",
      "execution_count": 7,
      "metadata": {
        "colab": {
          "base_uri": "https://localhost:8080/"
        },
        "id": "-eav24uf83Yj",
        "outputId": "8444d6d1-dca1-4d6d-f0be-7235776da1d6"
      },
      "outputs": [
        {
          "output_type": "stream",
          "name": "stdout",
          "text": [
            "0.9999546021312976\n"
          ]
        }
      ],
      "source": [
        "# You should see a value that is very close to 1 (0.9999546021312976)\n",
        "print(sigmoid(10))"
      ]
    },
    {
      "cell_type": "code",
      "execution_count": 8,
      "metadata": {
        "colab": {
          "base_uri": "https://localhost:8080/"
        },
        "id": "2ks50EIs83Yj",
        "outputId": "ad77db7e-a372-4136-ae09-c3a424ae367b"
      },
      "outputs": [
        {
          "output_type": "stream",
          "name": "stdout",
          "text": [
            "4.5397868702434395e-05\n"
          ]
        }
      ],
      "source": [
        "# You should see a value that is very close to 0 (4.5397868702434395e-05)\n",
        "print(sigmoid(-10))"
      ]
    },
    {
      "cell_type": "code",
      "execution_count": 9,
      "metadata": {
        "colab": {
          "base_uri": "https://localhost:8080/",
          "height": 447
        },
        "id": "SCDjxCCU83Yk",
        "outputId": "8e0c86a4-11fa-4b7d-f1d5-95bc41e58eb9"
      },
      "outputs": [
        {
          "output_type": "execute_result",
          "data": {
            "text/plain": [
              "<matplotlib.collections.PathCollection at 0x7d4221832d10>"
            ]
          },
          "metadata": {},
          "execution_count": 9
        },
        {
          "output_type": "display_data",
          "data": {
            "text/plain": [
              "<Figure size 640x480 with 1 Axes>"
            ],
            "image/png": "[encoded data removed]"
          },
          "metadata": {}
        }
      ],
      "source": [
        "x_plot = np.linspace(-10, 10, 240)\n",
        "y_plot = 1/(1+np.exp(-x_plot))\n",
        "plt.scatter(x_plot, y_plot, s=8, color='red')\n",
        "\n",
        "vertical_x = np.linspace(0, 0, 30)\n",
        "vertical_y = np.linspace(0, 0.5 ,30)\n",
        "\n",
        "horizontal_x = np.linspace(-10, 0, 41)\n",
        "horizontal_y = np.linspace(0.5, 0.5, 41)\n",
        "\n",
        "plt.scatter(vertical_x, vertical_y, s=8, color='blue')\n",
        "plt.scatter(horizontal_x, horizontal_y, s=8, color='blue')"
      ]
    },
    {
      "cell_type": "code",
      "execution_count": 9,
      "metadata": {
        "id": "eEVDj_8w83Yl"
      },
      "outputs": [],
      "source": []
    },
    {
      "cell_type": "code",
      "execution_count": 10,
      "metadata": {
        "id": "KnffvbI883Yl"
      },
      "outputs": [],
      "source": [
        "# loss function for logistic regression which is\n",
        "# ----------------------------------------\n",
        "# L = -(y_i*math.log(h_i)+(1-y_i)*math.log(1-h_i))\n",
        "# ----------------------------------------\n",
        "# :param y: int, binary digit of 0 and 1\n",
        "# :param h: float, the probability of data being 1\n",
        "# :return: float, the loss of predicting y correctly\n",
        "\n",
        "def loss_function(y_i, h_i):\n",
        "  return -(y_i*math.log(h_i)+(1-y_i)*math.log(1-h_i))\n",
        ""
      ]
    },
    {
      "cell_type": "code",
      "execution_count": 11,
      "metadata": {
        "colab": {
          "base_uri": "https://localhost:8080/"
        },
        "id": "hYmfmGMs83Ym",
        "outputId": "a925797a-4a09-43c1-e78f-00aa68827d0c"
      },
      "outputs": [
        {
          "output_type": "stream",
          "name": "stdout",
          "text": [
            "Loss: 0.16251892949777494\n"
          ]
        }
      ],
      "source": [
        "# When true label is 1 and you give 85% confidence it is 1\n",
        "# You should see Loss: 0.16251892949777494\n",
        "print('Loss:', loss_function(1, 0.85))"
      ]
    },
    {
      "cell_type": "code",
      "execution_count": 12,
      "metadata": {
        "colab": {
          "base_uri": "https://localhost:8080/"
        },
        "id": "M9X6aP-u83Ym",
        "outputId": "bfbe5e13-e881-4afc-c9ad-654f6a822aef"
      },
      "outputs": [
        {
          "output_type": "stream",
          "name": "stdout",
          "text": [
            "Loss: 1.6094379124341003\n"
          ]
        }
      ],
      "source": [
        "# When true label is 1 but you give 20% confidence it is 1\n",
        "# You should see Loss: 1.6094379124341003\n",
        "print('Loss:', loss_function(1, 0.2))"
      ]
    },
    {
      "cell_type": "code",
      "execution_count": 13,
      "metadata": {
        "colab": {
          "base_uri": "https://localhost:8080/",
          "height": 477
        },
        "id": "bi6HaFvz83Ym",
        "outputId": "551b2886-d60f-402f-8d37-c40a3ca13fd6"
      },
      "outputs": [
        {
          "output_type": "execute_result",
          "data": {
            "text/plain": [
              "Text(0.5, 1.0, '(y==1) Loss = -log(h)')"
            ]
          },
          "metadata": {},
          "execution_count": 13
        },
        {
          "output_type": "display_data",
          "data": {
            "text/plain": [
              "<Figure size 640x480 with 1 Axes>"
            ],
            "image/png": "[encoded data removed]"
          },
          "metadata": {}
        }
      ],
      "source": [
        "# Loss function when true label is 1\n",
        "x_plot = np.linspace(0.1, 1, 240)\n",
        "y_plot = -np.log(x_plot)\n",
        "plt.scatter(x_plot, y_plot, s=8, color='red')\n",
        "\n",
        "horizontal_x = np.linspace(0.1, 1, 31)\n",
        "horizontal_y = np.linspace(0, 0, 31)\n",
        "\n",
        "plt.scatter(horizontal_x, horizontal_y, s=8, color='blue')\n",
        "plt.title('(y==1) Loss = -log(h)', color='red', fontdict = {'fontsize': 20})"
      ]
    },
    {
      "cell_type": "code",
      "execution_count": 14,
      "metadata": {
        "colab": {
          "base_uri": "https://localhost:8080/"
        },
        "id": "9JusQtKq83Yn",
        "outputId": "46ef05e4-e67c-4e1a-8f73-4c498c668dab"
      },
      "outputs": [
        {
          "output_type": "stream",
          "name": "stdout",
          "text": [
            "Loss: 1.897119984885881\n"
          ]
        }
      ],
      "source": [
        "# When true label is 0 but you give 85% confidence it is 1\n",
        "# You should see Loss: 1.897119984885881\n",
        "print('Loss:', loss_function(0, 0.85))"
      ]
    },
    {
      "cell_type": "code",
      "execution_count": 15,
      "metadata": {
        "colab": {
          "base_uri": "https://localhost:8080/"
        },
        "id": "p8NfzLrt83Yn",
        "outputId": "e7c5ac6e-b06a-4c59-c62e-294a206cc285"
      },
      "outputs": [
        {
          "output_type": "stream",
          "name": "stdout",
          "text": [
            "Loss: 0.2231435513142097\n"
          ]
        }
      ],
      "source": [
        "# When true label is 0 and you give 20% confidence it is 1\n",
        "# You should see Loss: 0.2231435513142097\n",
        "print('Loss:', loss_function(0, 0.2))"
      ]
    },
    {
      "cell_type": "code",
      "execution_count": 16,
      "metadata": {
        "colab": {
          "base_uri": "https://localhost:8080/",
          "height": 477
        },
        "id": "uyvZnrre83Yn",
        "outputId": "359de726-cff5-472f-e13a-d8cb1b79f5ed"
      },
      "outputs": [
        {
          "output_type": "execute_result",
          "data": {
            "text/plain": [
              "Text(0.5, 1.0, '(y==0) Loss = -log(1-h)')"
            ]
          },
          "metadata": {},
          "execution_count": 16
        },
        {
          "output_type": "display_data",
          "data": {
            "text/plain": [
              "<Figure size 640x480 with 1 Axes>"
            ],
            "image/png": "[encoded data removed]"
          },
          "metadata": {}
        }
      ],
      "source": [
        "# Loss function when true label is 0\n",
        "x_plot = np.linspace(0, 0.9, 240)\n",
        "y_plot = -np.log(1-x_plot)\n",
        "plt.scatter(x_plot, y_plot, s=8, color='red')\n",
        "\n",
        "horizontal_x = np.linspace(0, 1, 31)\n",
        "horizontal_y = np.linspace(0, 0, 31)\n",
        "\n",
        "plt.scatter(horizontal_x, horizontal_y, s=8, color='blue')\n",
        "plt.title('(y==0) Loss = -log(1-h)', color='red', fontdict = {'fontsize': 20})"
      ]
    },
    {
      "cell_type": "code",
      "execution_count": null,
      "metadata": {
        "id": "2NJc1tvT83Yo"
      },
      "outputs": [],
      "source": []
    },
    {
      "cell_type": "code",
      "execution_count": 17,
      "metadata": {
        "id": "_3boMLtS83Yo"
      },
      "outputs": [],
      "source": [
        "# cost function of the logistic regression which is\n",
        "# ----------------------------------------\n",
        "# sum[-(y_i*math.log(h_i)+(1-y_i)*math.log(1-h_i))]/len(x)\n",
        "# where h_i = sigmoid(theta*x_i)\n",
        "# ----------------------------------------\n",
        "# :param x: list[int], input data\n",
        "# :param y: list[int], labels of 0's and 1's\n",
        "# :param theta: the parameter of input data\n",
        "# :return: float, the sum of each loss of predicting y correctly\n",
        "\n",
        "def cost_function(x, y, theta):\n",
        "  return sum(loss_function(y[i],sigmoid(theta*x[i])) for i in range(len(x)))/len(x)\n",
        ""
      ]
    },
    {
      "cell_type": "code",
      "execution_count": 18,
      "metadata": {
        "colab": {
          "base_uri": "https://localhost:8080/"
        },
        "id": "sY-d7XFi83Yp",
        "outputId": "f5bd3176-dc99-473c-de91-257e3a89e896"
      },
      "outputs": [
        {
          "output_type": "stream",
          "name": "stdout",
          "text": [
            "1.0289199901810133\n"
          ]
        }
      ],
      "source": [
        "# You should see 1.0289199901810133\n",
        "print(cost_function([-1, -2, 3, 4], [0, 1, 1, 0], 0.5))"
      ]
    },
    {
      "cell_type": "code",
      "execution_count": null,
      "metadata": {
        "id": "bNdFi67_83Yq"
      },
      "outputs": [],
      "source": []
    }
  ],
  "metadata": {
    "kernelspec": {
      "display_name": "Python 3",
      "language": "python",
      "name": "python3"
    },
    "language_info": {
      "codemirror_mode": {
        "name": "ipython",
        "version": 3
      },
      "file_extension": ".py",
      "mimetype": "text/x-python",
      "name": "python",
      "nbconvert_exporter": "python",
      "pygments_lexer": "ipython3",
      "version": "3.8.5"
    },
    "colab": {
      "provenance": []
    }
  },
  "nbformat": 4,
  "nbformat_minor": 0
}